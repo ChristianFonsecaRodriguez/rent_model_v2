{
 "cells": [
  {
   "cell_type": "code",
   "execution_count": 1,
   "id": "1ab81c46",
   "metadata": {},
   "outputs": [],
   "source": [
    "import mlflow"
   ]
  },
  {
   "cell_type": "code",
   "execution_count": 2,
   "id": "22516a01",
   "metadata": {},
   "outputs": [],
   "source": [
    "mlflow.set_tracking_uri('http://ec2-54-212-194-129.us-west-2.compute.amazonaws.com:5000') "
   ]
  },
  {
   "cell_type": "markdown",
   "id": "2cb78bcb",
   "metadata": {},
   "source": [
    "### Tracking del Modelo"
   ]
  },
  {
   "cell_type": "code",
   "execution_count": 51,
   "id": "e556069a",
   "metadata": {},
   "outputs": [],
   "source": [
    "client = mlflow.tracking.MlflowClient()"
   ]
  },
  {
   "cell_type": "code",
   "execution_count": 52,
   "id": "ef081ee0",
   "metadata": {},
   "outputs": [],
   "source": [
    "experiments = (client.search_experiments())"
   ]
  },
  {
   "cell_type": "code",
   "execution_count": 53,
   "id": "0d9a4cd1",
   "metadata": {},
   "outputs": [],
   "source": [
    "experiments = list(filter(lambda k: k.name == 'experiment_et_tunned', experiments))[0]"
   ]
  },
  {
   "cell_type": "code",
   "execution_count": 54,
   "id": "7ea8367a",
   "metadata": {},
   "outputs": [
    {
     "data": {
      "text/plain": [
       "<Experiment: artifact_location='s3://mlflow-artifacts-remote-buckets/3', creation_time=1688232918326, experiment_id='3', last_update_time=1688232918326, lifecycle_stage='active', name='experiment_et_tunned', tags={}>"
      ]
     },
     "execution_count": 54,
     "metadata": {},
     "output_type": "execute_result"
    }
   ],
   "source": [
    "experiments"
   ]
  },
  {
   "cell_type": "code",
   "execution_count": 55,
   "id": "a51dd1fb",
   "metadata": {},
   "outputs": [],
   "source": [
    "from mlflow.entities import ViewType\n",
    "runs = mlflow.MlflowClient().search_runs(\n",
    "    experiment_ids=experiments.experiment_id,\n",
    "    run_view_type = ViewType.ACTIVE_ONLY,\n",
    "    max_results = 5,\n",
    "    order_by=[\"metrics.MAE ASC\"]\n",
    ")"
   ]
  },
  {
   "cell_type": "code",
   "execution_count": 56,
   "id": "d05e724f",
   "metadata": {},
   "outputs": [],
   "source": [
    "run = runs[0]"
   ]
  },
  {
   "cell_type": "code",
   "execution_count": 57,
   "id": "e9f295ca",
   "metadata": {},
   "outputs": [
    {
     "data": {
      "text/plain": [
       "<Run: data=<RunData: metrics={'MAE': 13590.2301,\n",
       " 'MAPE': 0.4664,\n",
       " 'MSE': 4905591187.8898,\n",
       " 'R2': 0.586,\n",
       " 'RMSE': 51017.6582,\n",
       " 'RMSLE': 0.4775,\n",
       " 'TT': 0.3}, params={'bootstrap': 'False',\n",
       " 'ccp_alpha': '0.0',\n",
       " 'criterion': 'squared_error',\n",
       " 'max_depth': '10',\n",
       " 'max_features': 'sqrt',\n",
       " 'max_leaf_nodes': 'None',\n",
       " 'max_samples': 'None',\n",
       " 'min_impurity_decrease': '0.2',\n",
       " 'min_samples_leaf': '5',\n",
       " 'min_samples_split': '9',\n",
       " 'min_weight_fraction_leaf': '0.0',\n",
       " 'n_estimators': '170',\n",
       " 'n_jobs': '-1',\n",
       " 'oob_score': 'False',\n",
       " 'random_state': '123',\n",
       " 'verbose': '0',\n",
       " 'warm_start': 'False'}, tags={'Run ID': '1c6905460330486c8381772ede0f0a52',\n",
       " 'Run Time': '121.36',\n",
       " 'Source': 'tune_model',\n",
       " 'URI': '29aba7c7',\n",
       " 'USI': '083d',\n",
       " 'mlflow.log-model.history': '[{\"run_id\": \"1c6905460330486c8381772ede0f0a52\", '\n",
       "                             '\"artifact_path\": \"model\", \"utc_time_created\": '\n",
       "                             '\"2023-07-01 17:38:09.422448\", \"flavors\": '\n",
       "                             '{\"python_function\": {\"model_path\": \"model.pkl\", '\n",
       "                             '\"predict_fn\": \"predict\", \"loader_module\": '\n",
       "                             '\"mlflow.sklearn\", \"python_version\": \"3.8.5\", '\n",
       "                             '\"env\": {\"conda\": \"conda.yaml\", \"virtualenv\": '\n",
       "                             '\"python_env.yaml\"}}, \"sklearn\": '\n",
       "                             '{\"pickled_model\": \"model.pkl\", '\n",
       "                             '\"sklearn_version\": \"1.2.2\", '\n",
       "                             '\"serialization_format\": \"cloudpickle\", \"code\": '\n",
       "                             'null}}, \"model_uuid\": '\n",
       "                             '\"f1beef8ce8634a4a8b9462c11582593c\", '\n",
       "                             '\"mlflow_version\": \"2.4.1\"}]',\n",
       " 'mlflow.parentRunId': 'b284da1fcd6f45b3b0a35a3d03a9c0a6',\n",
       " 'mlflow.runName': 'Extra Trees Regressor',\n",
       " 'mlflow.source.name': 'd:\\\\trabajo\\\\venv\\\\lib\\\\site-packages\\\\ipykernel_launcher.py',\n",
       " 'mlflow.source.type': 'LOCAL',\n",
       " 'mlflow.user': 'CHRISTIAN'}>, info=<RunInfo: artifact_uri='s3://mlflow-artifacts-remote-buckets/3/1c6905460330486c8381772ede0f0a52/artifacts', end_time=1688233095590, experiment_id='3', lifecycle_stage='active', run_id='1c6905460330486c8381772ede0f0a52', run_name='Extra Trees Regressor', run_uuid='1c6905460330486c8381772ede0f0a52', start_time=1688233082732, status='FINISHED', user_id='CHRISTIAN'>, inputs=<RunInputs: dataset_inputs=[]>>"
      ]
     },
     "execution_count": 57,
     "metadata": {},
     "output_type": "execute_result"
    }
   ],
   "source": [
    "run"
   ]
  },
  {
   "cell_type": "code",
   "execution_count": 58,
   "id": "85cf5258",
   "metadata": {},
   "outputs": [
    {
     "data": {
      "text/plain": [
       "'1c6905460330486c8381772ede0f0a52'"
      ]
     },
     "execution_count": 58,
     "metadata": {},
     "output_type": "execute_result"
    }
   ],
   "source": [
    "run.data.tags['Run ID']"
   ]
  },
  {
   "cell_type": "code",
   "execution_count": 59,
   "id": "90c3016e",
   "metadata": {},
   "outputs": [
    {
     "name": "stderr",
     "output_type": "stream",
     "text": [
      "2023/07/01 12:45:00 WARNING mlflow.pyfunc: Detected one or more mismatches between the model's dependencies and the current Python environment:\n",
      " - mlflow (current: 2.4.1, required: mlflow==2.4)\n",
      "To fix the mismatches, call `mlflow.pyfunc.get_model_dependencies(model_uri)` to fetch the model's environment and install dependencies using the resulting environment file.\n"
     ]
    }
   ],
   "source": [
    "logg_model = 'runs:/' + run.data.tags['Run ID'] + '/model' \n",
    "load_model = mlflow.pyfunc.load_model(logg_model)"
   ]
  },
  {
   "cell_type": "code",
   "execution_count": 60,
   "id": "8ac2ee47",
   "metadata": {},
   "outputs": [],
   "source": [
    "import pandas as pd\n",
    "data = pd.read_csv('raw.csv')"
   ]
  },
  {
   "cell_type": "code",
   "execution_count": 61,
   "id": "827f34b5",
   "metadata": {},
   "outputs": [
    {
     "data": {
      "text/plain": [
       "array([12541.20308517, 10993.68754114, 11268.26956021, ...,\n",
       "       44535.77033338, 44219.855083  , 16135.16424371])"
      ]
     },
     "execution_count": 61,
     "metadata": {},
     "output_type": "execute_result"
    }
   ],
   "source": [
    "load_model.predict(data.drop(columns=['Rent']))"
   ]
  },
  {
   "cell_type": "markdown",
   "id": "46d59620",
   "metadata": {},
   "source": [
    "### Registro de Modelo"
   ]
  },
  {
   "cell_type": "code",
   "execution_count": 62,
   "id": "8fd8f8e7",
   "metadata": {},
   "outputs": [
    {
     "data": {
      "text/plain": [
       "'runs:/1c6905460330486c8381772ede0f0a52/model'"
      ]
     },
     "execution_count": 62,
     "metadata": {},
     "output_type": "execute_result"
    }
   ],
   "source": [
    "logg_model"
   ]
  },
  {
   "cell_type": "code",
   "execution_count": 63,
   "id": "6b26d191",
   "metadata": {},
   "outputs": [],
   "source": [
    "register_name = 'extra_trees'"
   ]
  },
  {
   "cell_type": "code",
   "execution_count": 64,
   "id": "c72819f3",
   "metadata": {},
   "outputs": [
    {
     "name": "stderr",
     "output_type": "stream",
     "text": [
      "Registered model 'extra_trees' already exists. Creating a new version of this model...\n",
      "2023/07/01 12:45:38 INFO mlflow.tracking._model_registry.client: Waiting up to 300 seconds for model version to finish creation. Model name: extra_trees, version 2\n",
      "Created version '2' of model 'extra_trees'.\n"
     ]
    },
    {
     "data": {
      "text/plain": [
       "<ModelVersion: aliases=[], creation_timestamp=1688233538061, current_stage='None', description='', last_updated_timestamp=1688233538061, name='extra_trees', run_id='1c6905460330486c8381772ede0f0a52', run_link='', source='s3://mlflow-artifacts-remote-buckets/3/1c6905460330486c8381772ede0f0a52/artifacts/model', status='READY', status_message='', tags={}, user_id='', version='2'>"
      ]
     },
     "execution_count": 64,
     "metadata": {},
     "output_type": "execute_result"
    }
   ],
   "source": [
    "mlflow.register_model(logg_model, register_name)"
   ]
  },
  {
   "cell_type": "code",
   "execution_count": 68,
   "id": "d3020db8",
   "metadata": {},
   "outputs": [],
   "source": [
    "version = 2"
   ]
  },
  {
   "cell_type": "code",
   "execution_count": 69,
   "id": "6b106c71",
   "metadata": {},
   "outputs": [
    {
     "name": "stderr",
     "output_type": "stream",
     "text": [
      "2023/07/01 12:46:10 WARNING mlflow.pyfunc: Detected one or more mismatches between the model's dependencies and the current Python environment:\n",
      " - mlflow (current: 2.4.1, required: mlflow==2.4)\n",
      "To fix the mismatches, call `mlflow.pyfunc.get_model_dependencies(model_uri)` to fetch the model's environment and install dependencies using the resulting environment file.\n"
     ]
    }
   ],
   "source": [
    "logg_model_uri = 'models:/' + register_name + f'/{version}' \n",
    "model = mlflow.pyfunc.load_model(logg_model_uri)"
   ]
  },
  {
   "cell_type": "code",
   "execution_count": 70,
   "id": "9deb8737",
   "metadata": {},
   "outputs": [
    {
     "data": {
      "text/plain": [
       "array([12541.20308517, 10993.68754114, 11268.26956021, ...,\n",
       "       44535.77033338, 44219.855083  , 16135.16424371])"
      ]
     },
     "execution_count": 70,
     "metadata": {},
     "output_type": "execute_result"
    }
   ],
   "source": [
    "model.predict(data.drop(columns=['Rent']))"
   ]
  },
  {
   "cell_type": "code",
   "execution_count": 71,
   "id": "8009a860",
   "metadata": {},
   "outputs": [
    {
     "data": {
      "text/plain": [
       "<ModelVersion: aliases=[], creation_timestamp=1688233538061, current_stage='None', description='This model uses extra trees algorithm', last_updated_timestamp=1688233693242, name='extra_trees', run_id='1c6905460330486c8381772ede0f0a52', run_link='', source='s3://mlflow-artifacts-remote-buckets/3/1c6905460330486c8381772ede0f0a52/artifacts/model', status='READY', status_message='', tags={}, user_id='', version='2'>"
      ]
     },
     "execution_count": 71,
     "metadata": {},
     "output_type": "execute_result"
    }
   ],
   "source": [
    "client = mlflow.MlflowClient()\n",
    "client.update_model_version(\n",
    "        name='extra_trees',\n",
    "        version=2,\n",
    "        description='This model uses extra trees algorithm'\n",
    ")"
   ]
  },
  {
   "cell_type": "code",
   "execution_count": 72,
   "id": "9943df7f",
   "metadata": {},
   "outputs": [
    {
     "data": {
      "text/plain": [
       "<ModelVersion: aliases=[], creation_timestamp=1688233538061, current_stage='Production', description='This model uses extra trees algorithm', last_updated_timestamp=1688233785976, name='extra_trees', run_id='1c6905460330486c8381772ede0f0a52', run_link='', source='s3://mlflow-artifacts-remote-buckets/3/1c6905460330486c8381772ede0f0a52/artifacts/model', status='READY', status_message='', tags={}, user_id='', version='2'>"
      ]
     },
     "execution_count": 72,
     "metadata": {},
     "output_type": "execute_result"
    }
   ],
   "source": [
    "client = mlflow.MlflowClient()\n",
    "client.transition_model_version_stage(\n",
    "    name='extra_trees', version=2, stage='Production'\n",
    ")"
   ]
  },
  {
   "cell_type": "code",
   "execution_count": 74,
   "id": "057d07c8",
   "metadata": {},
   "outputs": [
    {
     "data": {
      "text/plain": [
       "<ModelVersion: aliases=[], creation_timestamp=1688233261413, current_stage='Staging', description='', last_updated_timestamp=1688233854681, name='extra_trees', run_id='be43d985bdac4e85a6b2b3e44689803b', run_link='', source='s3://mlflow-artifacts-remote-buckets/2/be43d985bdac4e85a6b2b3e44689803b/artifacts/model', status='READY', status_message='', tags={}, user_id='', version='1'>"
      ]
     },
     "execution_count": 74,
     "metadata": {},
     "output_type": "execute_result"
    }
   ],
   "source": [
    "client = mlflow.MlflowClient()\n",
    "client.transition_model_version_stage(\n",
    "    name='extra_trees', version=1, stage='Staging'\n",
    ")"
   ]
  },
  {
   "cell_type": "code",
   "execution_count": null,
   "id": "90fd4e54",
   "metadata": {},
   "outputs": [],
   "source": []
  },
  {
   "cell_type": "code",
   "execution_count": 75,
   "id": "80a38400",
   "metadata": {},
   "outputs": [
    {
     "name": "stderr",
     "output_type": "stream",
     "text": [
      "2023/07/01 12:53:26 WARNING mlflow.pyfunc: Detected one or more mismatches between the model's dependencies and the current Python environment:\n",
      " - mlflow (current: 2.4.1, required: mlflow==2.4)\n",
      "To fix the mismatches, call `mlflow.pyfunc.get_model_dependencies(model_uri)` to fetch the model's environment and install dependencies using the resulting environment file.\n"
     ]
    },
    {
     "data": {
      "text/plain": [
       "array([12541.20308517, 10993.68754114, 11268.26956021, ...,\n",
       "       44535.77033338, 44219.855083  , 16135.16424371])"
      ]
     },
     "execution_count": 75,
     "metadata": {},
     "output_type": "execute_result"
    }
   ],
   "source": [
    "model_name = 'extra_trees'\n",
    "stage = 'Production'\n",
    "\n",
    "model = mlflow.pyfunc.load_model(model_uri=f'models:/{model_name}/{stage}')\n",
    "model.predict(data.drop(columns=['Rent']))"
   ]
  },
  {
   "cell_type": "code",
   "execution_count": 76,
   "id": "80345d69",
   "metadata": {},
   "outputs": [
    {
     "data": {
      "text/html": [
       "<div>\n",
       "<style scoped>\n",
       "    .dataframe tbody tr th:only-of-type {\n",
       "        vertical-align: middle;\n",
       "    }\n",
       "\n",
       "    .dataframe tbody tr th {\n",
       "        vertical-align: top;\n",
       "    }\n",
       "\n",
       "    .dataframe thead th {\n",
       "        text-align: right;\n",
       "    }\n",
       "</style>\n",
       "<table border=\"1\" class=\"dataframe\">\n",
       "  <thead>\n",
       "    <tr style=\"text-align: right;\">\n",
       "      <th></th>\n",
       "      <th>Posted On</th>\n",
       "      <th>BHK</th>\n",
       "      <th>Rent</th>\n",
       "      <th>Size</th>\n",
       "      <th>Floor</th>\n",
       "      <th>Area Type</th>\n",
       "      <th>Area Locality</th>\n",
       "      <th>City</th>\n",
       "      <th>Furnishing Status</th>\n",
       "      <th>Tenant Preferred</th>\n",
       "      <th>Bathroom</th>\n",
       "      <th>Point of Contact</th>\n",
       "    </tr>\n",
       "  </thead>\n",
       "  <tbody>\n",
       "    <tr>\n",
       "      <th>0</th>\n",
       "      <td>2022-05-18</td>\n",
       "      <td>2</td>\n",
       "      <td>10000</td>\n",
       "      <td>1100</td>\n",
       "      <td>Ground out of 2</td>\n",
       "      <td>Super Area</td>\n",
       "      <td>Bandel</td>\n",
       "      <td>Kolkata</td>\n",
       "      <td>Unfurnished</td>\n",
       "      <td>Bachelors/Family</td>\n",
       "      <td>2</td>\n",
       "      <td>Contact Owner</td>\n",
       "    </tr>\n",
       "    <tr>\n",
       "      <th>1</th>\n",
       "      <td>2022-05-13</td>\n",
       "      <td>2</td>\n",
       "      <td>20000</td>\n",
       "      <td>800</td>\n",
       "      <td>1 out of 3</td>\n",
       "      <td>Super Area</td>\n",
       "      <td>Phool Bagan, Kankurgachi</td>\n",
       "      <td>Kolkata</td>\n",
       "      <td>Semi-Furnished</td>\n",
       "      <td>Bachelors/Family</td>\n",
       "      <td>1</td>\n",
       "      <td>Contact Owner</td>\n",
       "    </tr>\n",
       "    <tr>\n",
       "      <th>2</th>\n",
       "      <td>2022-05-16</td>\n",
       "      <td>2</td>\n",
       "      <td>17000</td>\n",
       "      <td>1000</td>\n",
       "      <td>1 out of 3</td>\n",
       "      <td>Super Area</td>\n",
       "      <td>Salt Lake City Sector 2</td>\n",
       "      <td>Kolkata</td>\n",
       "      <td>Semi-Furnished</td>\n",
       "      <td>Bachelors/Family</td>\n",
       "      <td>1</td>\n",
       "      <td>Contact Owner</td>\n",
       "    </tr>\n",
       "    <tr>\n",
       "      <th>3</th>\n",
       "      <td>2022-07-04</td>\n",
       "      <td>2</td>\n",
       "      <td>10000</td>\n",
       "      <td>800</td>\n",
       "      <td>1 out of 2</td>\n",
       "      <td>Super Area</td>\n",
       "      <td>Dumdum Park</td>\n",
       "      <td>Kolkata</td>\n",
       "      <td>Unfurnished</td>\n",
       "      <td>Bachelors/Family</td>\n",
       "      <td>1</td>\n",
       "      <td>Contact Owner</td>\n",
       "    </tr>\n",
       "    <tr>\n",
       "      <th>4</th>\n",
       "      <td>2022-05-09</td>\n",
       "      <td>2</td>\n",
       "      <td>7500</td>\n",
       "      <td>850</td>\n",
       "      <td>1 out of 2</td>\n",
       "      <td>Carpet Area</td>\n",
       "      <td>South Dum Dum</td>\n",
       "      <td>Kolkata</td>\n",
       "      <td>Unfurnished</td>\n",
       "      <td>Bachelors</td>\n",
       "      <td>1</td>\n",
       "      <td>Contact Owner</td>\n",
       "    </tr>\n",
       "    <tr>\n",
       "      <th>...</th>\n",
       "      <td>...</td>\n",
       "      <td>...</td>\n",
       "      <td>...</td>\n",
       "      <td>...</td>\n",
       "      <td>...</td>\n",
       "      <td>...</td>\n",
       "      <td>...</td>\n",
       "      <td>...</td>\n",
       "      <td>...</td>\n",
       "      <td>...</td>\n",
       "      <td>...</td>\n",
       "      <td>...</td>\n",
       "    </tr>\n",
       "    <tr>\n",
       "      <th>4741</th>\n",
       "      <td>2022-05-18</td>\n",
       "      <td>2</td>\n",
       "      <td>15000</td>\n",
       "      <td>1000</td>\n",
       "      <td>3 out of 5</td>\n",
       "      <td>Carpet Area</td>\n",
       "      <td>Bandam Kommu</td>\n",
       "      <td>Hyderabad</td>\n",
       "      <td>Semi-Furnished</td>\n",
       "      <td>Bachelors/Family</td>\n",
       "      <td>2</td>\n",
       "      <td>Contact Owner</td>\n",
       "    </tr>\n",
       "    <tr>\n",
       "      <th>4742</th>\n",
       "      <td>2022-05-15</td>\n",
       "      <td>3</td>\n",
       "      <td>29000</td>\n",
       "      <td>2000</td>\n",
       "      <td>1 out of 4</td>\n",
       "      <td>Super Area</td>\n",
       "      <td>Manikonda, Hyderabad</td>\n",
       "      <td>Hyderabad</td>\n",
       "      <td>Semi-Furnished</td>\n",
       "      <td>Bachelors/Family</td>\n",
       "      <td>3</td>\n",
       "      <td>Contact Owner</td>\n",
       "    </tr>\n",
       "    <tr>\n",
       "      <th>4743</th>\n",
       "      <td>2022-07-10</td>\n",
       "      <td>3</td>\n",
       "      <td>35000</td>\n",
       "      <td>1750</td>\n",
       "      <td>3 out of 5</td>\n",
       "      <td>Carpet Area</td>\n",
       "      <td>Himayath Nagar, NH 7</td>\n",
       "      <td>Hyderabad</td>\n",
       "      <td>Semi-Furnished</td>\n",
       "      <td>Bachelors/Family</td>\n",
       "      <td>3</td>\n",
       "      <td>Contact Agent</td>\n",
       "    </tr>\n",
       "    <tr>\n",
       "      <th>4744</th>\n",
       "      <td>2022-07-06</td>\n",
       "      <td>3</td>\n",
       "      <td>45000</td>\n",
       "      <td>1500</td>\n",
       "      <td>23 out of 34</td>\n",
       "      <td>Carpet Area</td>\n",
       "      <td>Gachibowli</td>\n",
       "      <td>Hyderabad</td>\n",
       "      <td>Semi-Furnished</td>\n",
       "      <td>Family</td>\n",
       "      <td>2</td>\n",
       "      <td>Contact Agent</td>\n",
       "    </tr>\n",
       "    <tr>\n",
       "      <th>4745</th>\n",
       "      <td>2022-05-04</td>\n",
       "      <td>2</td>\n",
       "      <td>15000</td>\n",
       "      <td>1000</td>\n",
       "      <td>4 out of 5</td>\n",
       "      <td>Carpet Area</td>\n",
       "      <td>Suchitra Circle</td>\n",
       "      <td>Hyderabad</td>\n",
       "      <td>Unfurnished</td>\n",
       "      <td>Bachelors</td>\n",
       "      <td>2</td>\n",
       "      <td>Contact Owner</td>\n",
       "    </tr>\n",
       "  </tbody>\n",
       "</table>\n",
       "<p>4746 rows × 12 columns</p>\n",
       "</div>"
      ],
      "text/plain": [
       "       Posted On  BHK   Rent  Size            Floor    Area Type  \\\n",
       "0     2022-05-18    2  10000  1100  Ground out of 2   Super Area   \n",
       "1     2022-05-13    2  20000   800       1 out of 3   Super Area   \n",
       "2     2022-05-16    2  17000  1000       1 out of 3   Super Area   \n",
       "3     2022-07-04    2  10000   800       1 out of 2   Super Area   \n",
       "4     2022-05-09    2   7500   850       1 out of 2  Carpet Area   \n",
       "...          ...  ...    ...   ...              ...          ...   \n",
       "4741  2022-05-18    2  15000  1000       3 out of 5  Carpet Area   \n",
       "4742  2022-05-15    3  29000  2000       1 out of 4   Super Area   \n",
       "4743  2022-07-10    3  35000  1750       3 out of 5  Carpet Area   \n",
       "4744  2022-07-06    3  45000  1500     23 out of 34  Carpet Area   \n",
       "4745  2022-05-04    2  15000  1000       4 out of 5  Carpet Area   \n",
       "\n",
       "                 Area Locality       City Furnishing Status  Tenant Preferred  \\\n",
       "0                       Bandel    Kolkata       Unfurnished  Bachelors/Family   \n",
       "1     Phool Bagan, Kankurgachi    Kolkata    Semi-Furnished  Bachelors/Family   \n",
       "2      Salt Lake City Sector 2    Kolkata    Semi-Furnished  Bachelors/Family   \n",
       "3                  Dumdum Park    Kolkata       Unfurnished  Bachelors/Family   \n",
       "4                South Dum Dum    Kolkata       Unfurnished         Bachelors   \n",
       "...                        ...        ...               ...               ...   \n",
       "4741              Bandam Kommu  Hyderabad    Semi-Furnished  Bachelors/Family   \n",
       "4742      Manikonda, Hyderabad  Hyderabad    Semi-Furnished  Bachelors/Family   \n",
       "4743      Himayath Nagar, NH 7  Hyderabad    Semi-Furnished  Bachelors/Family   \n",
       "4744                Gachibowli  Hyderabad    Semi-Furnished            Family   \n",
       "4745           Suchitra Circle  Hyderabad       Unfurnished         Bachelors   \n",
       "\n",
       "      Bathroom Point of Contact  \n",
       "0            2    Contact Owner  \n",
       "1            1    Contact Owner  \n",
       "2            1    Contact Owner  \n",
       "3            1    Contact Owner  \n",
       "4            1    Contact Owner  \n",
       "...        ...              ...  \n",
       "4741         2    Contact Owner  \n",
       "4742         3    Contact Owner  \n",
       "4743         3    Contact Agent  \n",
       "4744         2    Contact Agent  \n",
       "4745         2    Contact Owner  \n",
       "\n",
       "[4746 rows x 12 columns]"
      ]
     },
     "execution_count": 76,
     "metadata": {},
     "output_type": "execute_result"
    }
   ],
   "source": [
    "data"
   ]
  },
  {
   "cell_type": "code",
   "execution_count": null,
   "id": "ec3c5e4e",
   "metadata": {},
   "outputs": [],
   "source": []
  }
 ],
 "metadata": {
  "kernelspec": {
   "display_name": "Python 3 (ipykernel)",
   "language": "python",
   "name": "python3"
  },
  "language_info": {
   "codemirror_mode": {
    "name": "ipython",
    "version": 3
   },
   "file_extension": ".py",
   "mimetype": "text/x-python",
   "name": "python",
   "nbconvert_exporter": "python",
   "pygments_lexer": "ipython3",
   "version": "3.8.5"
  }
 },
 "nbformat": 4,
 "nbformat_minor": 5
}
